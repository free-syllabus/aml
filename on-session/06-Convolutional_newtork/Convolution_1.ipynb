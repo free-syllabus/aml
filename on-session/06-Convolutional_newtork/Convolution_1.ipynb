{
 "cells": [
  {
   "cell_type": "code",
   "execution_count": 1,
   "id": "abd5b1b5-699b-4db5-86a9-f810c8952574",
   "metadata": {},
   "outputs": [],
   "source": [
    "import numpy as np"
   ]
  },
  {
   "cell_type": "code",
   "execution_count": 2,
   "id": "7b3f6bbb-9658-4ce8-aba6-5eddfe7f50a5",
   "metadata": {},
   "outputs": [],
   "source": [
    "# pooling layer: \n",
    "\n",
    "def colors(c):\n",
    "    if c <= -1:\n",
    "        return -1\n",
    "    if c >= 1:\n",
    "        return 1\n",
    "    return 0\n",
    "\n",
    "vcolors = np.vectorize(colors)"
   ]
  },
  {
   "cell_type": "code",
   "execution_count": 3,
   "id": "4405963f-beb5-46cf-8632-52d444cbe3af",
   "metadata": {},
   "outputs": [],
   "source": [
    "def image_convolution(matrix, kernel):\n",
    "    # kernel can be asymmetric but still needs to be odd\n",
    "    k_height, k_width = kernel.shape\n",
    "    m_height, m_width = matrix.shape\n",
    "    m_height -= 2\n",
    "    m_width -= 2\n",
    "    padded = matrix\n",
    "\n",
    "    # iterates through matrix, applies kernel, and sums\n",
    "    output = []\n",
    "    for i in range(m_height):\n",
    "        for j in range(m_width):\n",
    "            between = padded[i:k_height+i, j:k_width+j]*kernel\n",
    "            output.append(np.sum(between))\n",
    "\n",
    "    output=np.array(output).reshape((m_height, m_width))\n",
    "    output = vcolors(output)\n",
    "    return output"
   ]
  },
  {
   "cell_type": "code",
   "execution_count": 41,
   "id": "fdefbf1c-8cfd-4627-bcac-5db932482b0e",
   "metadata": {},
   "outputs": [],
   "source": [
    "# 1 == white, 0 == gray, -1 == black\n",
    "\n",
    "matrix = np.array([\n",
    "                    [ 1, 1, 1,-1,-1,-1, 1, 1, 1],\n",
    "                    [ 1, 1,-1,-1, 0,-1,-1, 1, 1],\n",
    "                    [ 1,-1,-1, 0, 0, 0,-1,-1, 1],\n",
    "                    [-1,-1, 0, 0, 0, 0, 0,-1,-1],\n",
    "                    [-1,-1, 0, 0, 0, 0, 0,-1,-1],\n",
    "                    [ 1,-1,-1, 0, 0, 0,-1,-1, 1],\n",
    "                    [ 1, 1,-1,-1, 0,-1,-1, 1, 1],\n",
    "                    [ 1, 1, 1,-1,-1,-1, 1, 1, 1]\n",
    "                  ])"
   ]
  },
  {
   "cell_type": "code",
   "execution_count": 42,
   "id": "f2a5e3bc-9b6e-40cd-bbe4-71096cb80574",
   "metadata": {},
   "outputs": [],
   "source": [
    "# identity\n",
    "kernel = np.array([[0, 0, 0],\n",
    "                   [0, 1, 0],\n",
    "                   [0, 0, 0]])\n",
    "\n",
    "# smoothing\n",
    "kernel = np.array([[  0, 0.2,   0],\n",
    "                   [0.2,   1, 0.2],\n",
    "                   [  0, 0.2,   0]])\n",
    "\n",
    "# edge detection\n",
    "kernel = np.array([[ 0, -1,  0],\n",
    "                   [-1,  4, -1],\n",
    "                   [ 0, -1,  0]])"
   ]
  },
  {
   "cell_type": "code",
   "execution_count": 43,
   "id": "f4ee979e-9ee9-44a2-9b4f-2dd90b24173c",
   "metadata": {},
   "outputs": [
    {
     "data": {
      "text/plain": [
       "array([[ 1, -1, -1,  1, -1, -1,  1],\n",
       "       [-1, -1,  1,  0,  1, -1, -1],\n",
       "       [-1,  1,  0,  0,  0,  1, -1],\n",
       "       [-1,  1,  0,  0,  0,  1, -1],\n",
       "       [-1, -1,  1,  0,  1, -1, -1],\n",
       "       [ 1, -1, -1,  1, -1, -1,  1]])"
      ]
     },
     "execution_count": 43,
     "metadata": {},
     "output_type": "execute_result"
    }
   ],
   "source": [
    "result = image_convolution(matrix, kernel)\n",
    "result"
   ]
  },
  {
   "cell_type": "code",
   "execution_count": 44,
   "id": "b97fd29d-e962-4a2e-a65c-02582b8ee4ee",
   "metadata": {},
   "outputs": [],
   "source": [
    "from matplotlib import pyplot as plt"
   ]
  },
  {
   "cell_type": "code",
   "execution_count": 45,
   "id": "a659c5b9-d776-4a51-a358-f01a343377be",
   "metadata": {},
   "outputs": [
    {
     "data": {
      "text/plain": [
       "<matplotlib.image.AxesImage at 0x7fd41abeeca0>"
      ]
     },
     "execution_count": 45,
     "metadata": {},
     "output_type": "execute_result"
    },
    {
     "data": {
      "image/png": "[encoded data removed]",
      "text/plain": [
       "<Figure size 640x480 with 1 Axes>"
      ]
     },
     "metadata": {},
     "output_type": "display_data"
    }
   ],
   "source": [
    "plt.imshow(matrix, cmap='gray', vmin=-1, vmax=1)"
   ]
  },
  {
   "cell_type": "code",
   "execution_count": 46,
   "id": "a5f5c9c2-8b98-4f09-9554-e1743bc08a1d",
   "metadata": {},
   "outputs": [
    {
     "data": {
      "text/plain": [
       "<matplotlib.image.AxesImage at 0x7fd41ab77b20>"
      ]
     },
     "execution_count": 46,
     "metadata": {},
     "output_type": "execute_result"
    },
    {
     "data": {
      "image/png": "[encoded data removed]",
      "text/plain": [
       "<Figure size 640x480 with 1 Axes>"
      ]
     },
     "metadata": {},
     "output_type": "display_data"
    }
   ],
   "source": [
    "plt.imshow(result, cmap='gray', vmin=-1, vmax=1)"
   ]
  },
  {
   "cell_type": "code",
   "execution_count": 47,
   "id": "084367d2-190f-4a8c-ac0c-5b0eb637e9ec",
   "metadata": {},
   "outputs": [
    {
     "data": {
      "text/plain": [
       "<matplotlib.image.AxesImage at 0x7fd41aaf0af0>"
      ]
     },
     "execution_count": 47,
     "metadata": {},
     "output_type": "execute_result"
    },
    {
     "data": {
      "image/png": "[encoded data removed]",
      "text/plain": [
       "<Figure size 640x480 with 1 Axes>"
      ]
     },
     "metadata": {},
     "output_type": "display_data"
    }
   ],
   "source": [
    "result2 = image_convolution(result, kernel)\n",
    "result2\n",
    "plt.imshow(result2, cmap='gray', vmin=-1, vmax=1)"
   ]
  },
  {
   "cell_type": "code",
   "execution_count": null,
   "id": "9e676b7d-369e-4182-9920-26f82b326085",
   "metadata": {},
   "outputs": [],
   "source": []
  }
 ],
 "metadata": {
  "kernelspec": {
   "display_name": "Python [conda env:eva_env]",
   "language": "python",
   "name": "conda-env-eva_env-py"
  },
  "language_info": {
   "codemirror_mode": {
    "name": "ipython",
    "version": 3
   },
   "file_extension": ".py",
   "mimetype": "text/x-python",
   "name": "python",
   "nbconvert_exporter": "python",
   "pygments_lexer": "ipython3",
   "version": "3.8.15"
  }
 },
 "nbformat": 4,
 "nbformat_minor": 5
}
